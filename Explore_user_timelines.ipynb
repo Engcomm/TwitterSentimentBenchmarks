{
 "cells": [
  {
   "cell_type": "code",
   "execution_count": 1,
   "metadata": {},
   "outputs": [
    {
     "name": "stderr",
     "output_type": "stream",
     "text": [
      "/homed/content/anaconda3/lib/python3.6/site-packages/nltk/twitter/__init__.py:20: UserWarning: The twython library has not been installed. Some functionality from the twitter package will not be available.\n",
      "  warnings.warn(\"The twython library has not been installed. \"\n"
     ]
    }
   ],
   "source": [
    "import findspark\n",
    "findspark.init()\n",
    "\n",
    "from pyspark import SparkConf, SparkContext\n",
    "from pyspark.sql import SparkSession\n",
    "\n",
    "from glob import glob\n",
    "import numpy as np\n",
    "\n",
    "from nltk.sentiment.vader import SentimentIntensityAnalyzer"
   ]
  },
  {
   "cell_type": "code",
   "execution_count": 2,
   "metadata": {
    "collapsed": true
   },
   "outputs": [],
   "source": [
    "sparkConf = SparkConf()\n",
    "sparkConf.setAppName(\"Sentiment Metadata\")\n",
    "sparkConf.setMaster(\"local[20]\")\n",
    "sparkConf.setAll([\n",
    "    (\"spark.local.dir\", \"./tmp\",)\n",
    "])\n",
    "\n",
    "sc = SparkContext(conf=sparkConf)\n",
    "spark = SparkSession(sc)"
   ]
  },
  {
   "cell_type": "code",
   "execution_count": 3,
   "metadata": {},
   "outputs": [
    {
     "data": {
      "text/plain": [
       "['/homed/smishra8/backupdisk/DataFiles/TwitterDatasets/SentimentMetaDataUsers/user_timelines.0.json',\n",
       " '/homed/smishra8/backupdisk/DataFiles/TwitterDatasets/SentimentMetaDataUsers/user_timelines.1.json',\n",
       " '/homed/smishra8/backupdisk/DataFiles/TwitterDatasets/SentimentMetaDataUsers/user_timelines.2.json']"
      ]
     },
     "execution_count": 3,
     "metadata": {},
     "output_type": "execute_result"
    }
   ],
   "source": [
    "FILENAMES=glob(\"/homed/smishra8/backupdisk/DataFiles/TwitterDatasets/SentimentMetaDataUsers/user_timelines.[0-9].json\")\n",
    "FILENAMES"
   ]
  },
  {
   "cell_type": "code",
   "execution_count": null,
   "metadata": {
    "collapsed": true
   },
   "outputs": [],
   "source": [
    "%%time\n",
    "tweet_rdd = spark.read.json(\"/homed/smishra8/backupdisk/DataFiles/TwitterDatasets/SentimentMetaDataUsers/user_timelines.*.json\")"
   ]
  },
  {
   "cell_type": "code",
   "execution_count": null,
   "metadata": {
    "collapsed": true
   },
   "outputs": [],
   "source": [
    "tweet_rdd.head(1)"
   ]
  },
  {
   "cell_type": "markdown",
   "metadata": {},
   "source": [
    "## Get sentiment"
   ]
  },
  {
   "cell_type": "code",
   "execution_count": null,
   "metadata": {
    "collapsed": true
   },
   "outputs": [],
   "source": [
    "sid = SentimentIntensityAnalyzer()"
   ]
  },
  {
   "cell_type": "code",
   "execution_count": null,
   "metadata": {
    "collapsed": true
   },
   "outputs": [],
   "source": [
    "tweet_rdd.select(\"full_text\").head()"
   ]
  },
  {
   "cell_type": "code",
   "execution_count": null,
   "metadata": {
    "collapsed": true
   },
   "outputs": [],
   "source": [
    "def parse_row(row):\n",
    "    # Tweet metadata\n",
    "    tid = row.id\n",
    "    hashtags = row.entities.hashtags\n",
    "    urls = row.entities.urls\n",
    "    user_mentions = row.entities.user_mentions\n",
    "    \n",
    "    len_hashtags = 0 if not hashtags else len(hashtags)\n",
    "    len_urls = 0 if not urls else len(urls)\n",
    "    len_user_mentions = 0 if not user_mentions else len(user_mentions)\n",
    "    \n",
    "    created_at = row.created_at\n",
    "    is_reply = row.in_reply_to_status_id is not None\n",
    "    is_quoted = row.is_quote_status\n",
    "    is_retweet = row.retweeted\n",
    "    \n",
    "    # user metadata\n",
    "    user = row.user\n",
    "    uid = user.id\n",
    "    \n",
    "    user_since = user.created_at\n",
    "    is_verified = user.verified\n",
    "    \n",
    "    main_url = user.url\n",
    "    desc_url = False if not user.entities.description else user.entities.description.urls\n",
    "    url_url = False if not user.entities.url else user.entities.url.urls\n",
    "    has_url = bool(main_url or desc_url or url_url)\n",
    "    \n",
    "    followers_count = user.followers_count\n",
    "    friends_count = user.friends_count\n",
    "    statuses_count = user.statuses_count\n",
    "        \n",
    "    # Vader scores\n",
    "    scores = sid.polarity_scores(row.full_text)\n",
    "    return (\n",
    "        (tid, len_hashtags, len_urls, len_user_mentions, created_at, is_reply, is_quoted, is_retweet) \n",
    "        + (uid, user_since, is_verified, has_url, followers_count, friends_count, statuses_count)\n",
    "        + (scores[\"compound\"], scores[\"neg\"], scores[\"neu\"], scores[\"pos\"])\n",
    "    )"
   ]
  },
  {
   "cell_type": "code",
   "execution_count": null,
   "metadata": {
    "collapsed": true
   },
   "outputs": [],
   "source": [
    "tweet_rdd.rdd.map(parse_row).take(2)"
   ]
  },
  {
   "cell_type": "code",
   "execution_count": null,
   "metadata": {
    "collapsed": true
   },
   "outputs": [],
   "source": [
    "def tuple2tsv(x):\n",
    "    return \"\\t\".join([\"{}\"]*len(x)).format(*[str(k) for k in x])"
   ]
  },
  {
   "cell_type": "code",
   "execution_count": null,
   "metadata": {
    "collapsed": true
   },
   "outputs": [],
   "source": [
    "metadata_string = tweet_rdd.rdd.map(parse_row).map(tuple2tsv)"
   ]
  },
  {
   "cell_type": "code",
   "execution_count": null,
   "metadata": {
    "collapsed": true
   },
   "outputs": [],
   "source": [
    "metadata_string.take(2)"
   ]
  },
  {
   "cell_type": "code",
   "execution_count": null,
   "metadata": {
    "collapsed": true
   },
   "outputs": [],
   "source": [
    "metadata_string.saveAsTextFile(\"./output/metadata\")"
   ]
  },
  {
   "cell_type": "code",
   "execution_count": 14,
   "metadata": {},
   "outputs": [
    {
     "name": "stdout",
     "output_type": "stream",
     "text": [
      "Done\n"
     ]
    }
   ],
   "source": [
    "print(\"Done\")"
   ]
  },
  {
   "cell_type": "code",
   "execution_count": null,
   "metadata": {
    "collapsed": true
   },
   "outputs": [],
   "source": []
  }
 ],
 "metadata": {
  "kernelspec": {
   "display_name": "Python [default]",
   "language": "python",
   "name": "python3"
  },
  "language_info": {
   "codemirror_mode": {
    "name": "ipython",
    "version": 3
   },
   "file_extension": ".py",
   "mimetype": "text/x-python",
   "name": "python",
   "nbconvert_exporter": "python",
   "pygments_lexer": "ipython3",
   "version": "3.6.1"
  }
 },
 "nbformat": 4,
 "nbformat_minor": 2
}
