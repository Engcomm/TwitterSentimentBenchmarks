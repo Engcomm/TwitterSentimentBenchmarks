{
 "cells": [
  {
   "cell_type": "code",
   "execution_count": 1,
   "metadata": {},
   "outputs": [
    {
     "name": "stderr",
     "output_type": "stream",
     "text": [
      "/homed/content/anaconda3/envs/python2/lib/python2.7/site-packages/statsmodels/compat/pandas.py:56: FutureWarning: The pandas.core.datetools module is deprecated and will be removed in a future version. Please use the pandas.tseries module instead.\n",
      "  from pandas.core import datetools\n"
     ]
    }
   ],
   "source": [
    "%matplotlib inline\n",
    "\n",
    "import pandas as pd\n",
    "import numpy as np\n",
    "\n",
    "import json\n",
    "#import matplotlib.pyplot as plt\n",
    "#import seaborn as sns\n",
    "\n",
    "import glob\n",
    "import re\n",
    "\n",
    "from utils import *"
   ]
  },
  {
   "cell_type": "code",
   "execution_count": 2,
   "metadata": {
    "collapsed": true
   },
   "outputs": [],
   "source": [
    "SEMEVAL_BASE=\"/homed/smishra8/Code/Old_Codes/Code/DeepLearning/SemEval/Task-Sentiment/data/DOWNLOAD\"\n",
    "CLARIN_BASE=\"/homed/smishra8/Code/Old_Codes/Code/DeepLearning/TwitterDatasets/Tweets15Langs/data\"\n",
    "AIRLINE_BASE=\"/homed/smishra8/Code/Old_Codes/Code/DeepLearning/TwitterDatasets/CrowdFlower/data/airline\"\n",
    "GOP_DEBATE_BASE=\"/homed/smishra8/Code/Old_Codes/Code/DeepLearning/TwitterDatasets/CrowdFlower/data/gopdebate\"\n",
    "HCR_BASE=\"/homed/smishra8/Code/Old_Codes/Code/DeepLearning/TwitterDatasets/updown/data/hcr\"\n",
    "OBAMA_DEBATE_BASE=\"/homed/smishra8/Code/Old_Codes/Code/DeepLearning/TwitterDatasets/updown/data/shamma/orig\""
   ]
  },
  {
   "cell_type": "code",
   "execution_count": 3,
   "metadata": {},
   "outputs": [
    {
     "name": "stdout",
     "output_type": "stream",
     "text": [
      "Arabic Files:\n",
      "[0] /homed/smishra8/Code/Old_Codes/Code/DeepLearning/SemEval/Task-Sentiment/data/DOWNLOAD/ARABIC/TRAIN-ONLY/SemEval2017-task4-train-only.subtask-BD.arabic.txt\n",
      "[1] /homed/smishra8/Code/Old_Codes/Code/DeepLearning/SemEval/Task-Sentiment/data/DOWNLOAD/ARABIC/TRAIN-ONLY/SemEval2017-task4-train-only.subtask-CE.arabic.txt\n",
      "[2] /homed/smishra8/Code/Old_Codes/Code/DeepLearning/SemEval/Task-Sentiment/data/DOWNLOAD/ARABIC/TRAIN-ONLY/SemEval2017-task4-train-only.subtask-A.arabic.txt\n",
      "[3] /homed/smishra8/Code/Old_Codes/Code/DeepLearning/SemEval/Task-Sentiment/data/DOWNLOAD/ARABIC/DEV/SemEval2017-task4-dev.subtask-BD.arabic.txt\n",
      "[4] /homed/smishra8/Code/Old_Codes/Code/DeepLearning/SemEval/Task-Sentiment/data/DOWNLOAD/ARABIC/DEV/SemEval2017-task4-dev.subtask-CE.arabic.txt\n",
      "[5] /homed/smishra8/Code/Old_Codes/Code/DeepLearning/SemEval/Task-Sentiment/data/DOWNLOAD/ARABIC/DEV/SemEval2017-task4-dev.subtask-A.arabic.txt\n",
      "\n",
      "English Files:\n",
      "[0] /homed/smishra8/Code/Old_Codes/Code/DeepLearning/SemEval/Task-Sentiment/data/DOWNLOAD/Subtasks_BD/twitter-2016train-BD.txt\n",
      "[1] /homed/smishra8/Code/Old_Codes/Code/DeepLearning/SemEval/Task-Sentiment/data/DOWNLOAD/Subtasks_BD/twitter-2015train-BD.txt\n",
      "[2] /homed/smishra8/Code/Old_Codes/Code/DeepLearning/SemEval/Task-Sentiment/data/DOWNLOAD/Subtasks_BD/twitter-2016test-BD.txt\n",
      "[3] /homed/smishra8/Code/Old_Codes/Code/DeepLearning/SemEval/Task-Sentiment/data/DOWNLOAD/Subtasks_BD/twitter-2016devtest-BD.txt\n",
      "[4] /homed/smishra8/Code/Old_Codes/Code/DeepLearning/SemEval/Task-Sentiment/data/DOWNLOAD/Subtasks_BD/twitter-2016dev-BD.txt\n",
      "[5] /homed/smishra8/Code/Old_Codes/Code/DeepLearning/SemEval/Task-Sentiment/data/DOWNLOAD/Subtasks_BD/twitter-2015test-BD.txt\n",
      "[6] /homed/smishra8/Code/Old_Codes/Code/DeepLearning/SemEval/Task-Sentiment/data/DOWNLOAD/Subtasks_CE/twitter-2016devtest-CE.txt\n",
      "[7] /homed/smishra8/Code/Old_Codes/Code/DeepLearning/SemEval/Task-Sentiment/data/DOWNLOAD/Subtasks_CE/twitter-2016dev-CE.txt\n",
      "[8] /homed/smishra8/Code/Old_Codes/Code/DeepLearning/SemEval/Task-Sentiment/data/DOWNLOAD/Subtasks_CE/twitter-2016train-CE.txt\n",
      "[9] /homed/smishra8/Code/Old_Codes/Code/DeepLearning/SemEval/Task-Sentiment/data/DOWNLOAD/Subtasks_CE/twitter-2016test-CE.txt\n",
      "[10] /homed/smishra8/Code/Old_Codes/Code/DeepLearning/SemEval/Task-Sentiment/data/DOWNLOAD/Subtask_A/twitter-2016train-A.txt\n",
      "[11] /homed/smishra8/Code/Old_Codes/Code/DeepLearning/SemEval/Task-Sentiment/data/DOWNLOAD/Subtask_A/twitter-2014test-A.txt\n",
      "[12] /homed/smishra8/Code/Old_Codes/Code/DeepLearning/SemEval/Task-Sentiment/data/DOWNLOAD/Subtask_A/twitter-2016devtest-A.txt\n",
      "[13] /homed/smishra8/Code/Old_Codes/Code/DeepLearning/SemEval/Task-Sentiment/data/DOWNLOAD/Subtask_A/twitter-2015train-A.txt\n",
      "[14] /homed/smishra8/Code/Old_Codes/Code/DeepLearning/SemEval/Task-Sentiment/data/DOWNLOAD/Subtask_A/twitter-2013train-A.txt\n",
      "[15] /homed/smishra8/Code/Old_Codes/Code/DeepLearning/SemEval/Task-Sentiment/data/DOWNLOAD/Subtask_A/twitter-2013test-A.txt\n",
      "[16] /homed/smishra8/Code/Old_Codes/Code/DeepLearning/SemEval/Task-Sentiment/data/DOWNLOAD/Subtask_A/twitter-2015test-A.txt\n",
      "[17] /homed/smishra8/Code/Old_Codes/Code/DeepLearning/SemEval/Task-Sentiment/data/DOWNLOAD/Subtask_A/twitter-2016test-A.txt\n",
      "[18] /homed/smishra8/Code/Old_Codes/Code/DeepLearning/SemEval/Task-Sentiment/data/DOWNLOAD/Subtask_A/twitter-2014sarcasm-A.txt\n",
      "[19] /homed/smishra8/Code/Old_Codes/Code/DeepLearning/SemEval/Task-Sentiment/data/DOWNLOAD/Subtask_A/twitter-2013dev-A.txt\n",
      "[20] /homed/smishra8/Code/Old_Codes/Code/DeepLearning/SemEval/Task-Sentiment/data/DOWNLOAD/Subtask_A/twitter-2016dev-A.txt\n",
      "\n",
      "Clarin English Files:\n",
      "[0] /homed/smishra8/Code/Old_Codes/Code/DeepLearning/TwitterDatasets/Tweets15Langs/data/English_Twitter_sentiment.csv\n",
      "\n",
      "Crowdflower airline Files:\n",
      "[0] /homed/smishra8/Code/Old_Codes/Code/DeepLearning/TwitterDatasets/CrowdFlower/data/airline/tweet_sentiments.txt\n",
      "\n",
      "Crowdflower gop debate Files:\n",
      "[0] /homed/smishra8/Code/Old_Codes/Code/DeepLearning/TwitterDatasets/CrowdFlower/data/gopdebate/tweet_sentiments.txt\n",
      "\n",
      "HCR Files:\n",
      "[0] /homed/smishra8/Code/Old_Codes/Code/DeepLearning/TwitterDatasets/updown/data/hcr/tweet_sentiments.txt\n",
      "\n",
      "Obama McCain Files:\n",
      "[0] /homed/smishra8/Code/Old_Codes/Code/DeepLearning/TwitterDatasets/updown/data/shamma/orig/tweet_sentiments.txt\n",
      "\n"
     ]
    }
   ],
   "source": [
    "DATA_FILE=\"{}/all_tweet_ids.txt.json\".format(SEMEVAL_BASE)\n",
    "arabic_files = glob.glob(\"{}/ARABIC/**/*.txt\".format(SEMEVAL_BASE))\n",
    "print_filenames(arabic_files, title=\"Arabic\")\n",
    "english_files = glob.glob(\"{}/Subtask*/*.txt\".format(SEMEVAL_BASE))\n",
    "print_filenames(english_files, title=\"English\")\n",
    "\n",
    "CLARIN_DATA_FILE=\"{}/all_english_ids.txt.json\".format(CLARIN_BASE)\n",
    "clarin_english_files = glob.glob(\"{}/English_Twitter_sentiment.csv\".format(CLARIN_BASE))\n",
    "print_filenames(clarin_english_files, title=\"Clarin English\")\n",
    "\n",
    "AIRLINE_FILE=\"{}/all_ids.txt.json\".format(AIRLINE_BASE)\n",
    "airline_files = glob.glob(\"{}/tweet_sentiments.txt\".format(AIRLINE_BASE))\n",
    "print_filenames(airline_files, title=\"Crowdflower airline\")\n",
    "\n",
    "GOP_DEBATE_FILE=\"{}/all_ids.txt.json\".format(GOP_DEBATE_BASE)\n",
    "gop_debate_files = glob.glob(\"{}/tweet_sentiments.txt\".format(GOP_DEBATE_BASE))\n",
    "print_filenames(gop_debate_files, title=\"Crowdflower gop debate\")\n",
    "\n",
    "HCR_FILE=\"{}/all_ids.txt.json\".format(HCR_BASE)\n",
    "hcr_files = glob.glob(\"{}/tweet_sentiments.txt\".format(HCR_BASE))\n",
    "print_filenames(hcr_files, title=\"HCR\")\n",
    "\n",
    "OBAMA_DEBATE_FILE=\"{}/all_ids.txt.json\".format(OBAMA_DEBATE_BASE)\n",
    "obama_debate_files = glob.glob(\"{}/tweet_sentiments.txt\".format(OBAMA_DEBATE_BASE))\n",
    "print_filenames(obama_debate_files, title=\"Obama McCain\")"
   ]
  },
  {
   "cell_type": "code",
   "execution_count": 4,
   "metadata": {},
   "outputs": [
    {
     "name": "stdout",
     "output_type": "stream",
     "text": [
      "Total 43047 tweets\n",
      "Total 104714 tweets\n",
      "Total 116972 tweets\n",
      "Total 127011 tweets\n",
      "Total 130909 tweets\n",
      "Total 133517 tweets\n",
      "133508\n",
      "CPU times: user 25.7 s, sys: 1.74 s, total: 27.4 s\n",
      "Wall time: 27.4 s\n"
     ]
    }
   ],
   "source": [
    "%%time\n",
    "all_tweet_data=[]\n",
    "for filename in [DATA_FILE, CLARIN_DATA_FILE,\n",
    "                 AIRLINE_FILE, GOP_DEBATE_FILE,\n",
    "                HCR_FILE, OBAMA_DEBATE_FILE]:\n",
    "    with open(filename) as fp:\n",
    "        for line in fp:\n",
    "            t_data = json.loads(line.strip())\n",
    "            all_tweet_data.append(t_data)\n",
    "    print \"Total %s tweets\" % len(all_tweet_data)\n",
    "    \n",
    "TWEET_ID2DATA={}\n",
    "for t_data in all_tweet_data:\n",
    "    TWEET_ID2DATA[t_data[u'id']] = t_data\n",
    "print len(TWEET_ID2DATA)"
   ]
  },
  {
   "cell_type": "code",
   "execution_count": 5,
   "metadata": {},
   "outputs": [
    {
     "data": {
      "text/plain": [
       "[u'contributors',\n",
       " u'truncated',\n",
       " u'text',\n",
       " u'is_quote_status',\n",
       " u'in_reply_to_status_id',\n",
       " u'id',\n",
       " u'favorite_count',\n",
       " u'source',\n",
       " u'retweeted',\n",
       " u'coordinates',\n",
       " u'entities',\n",
       " u'in_reply_to_screen_name',\n",
       " u'id_str',\n",
       " u'retweet_count',\n",
       " u'in_reply_to_user_id',\n",
       " u'favorited',\n",
       " u'user',\n",
       " u'geo',\n",
       " u'in_reply_to_user_id_str',\n",
       " u'lang',\n",
       " u'created_at',\n",
       " u'in_reply_to_status_id_str',\n",
       " u'place']"
      ]
     },
     "execution_count": 5,
     "metadata": {},
     "output_type": "execute_result"
    }
   ],
   "source": [
    "all_tweet_data[0].keys()"
   ]
  },
  {
   "cell_type": "code",
   "execution_count": 6,
   "metadata": {
    "collapsed": true
   },
   "outputs": [],
   "source": [
    "def simple_extractor_func(t_data, line):\n",
    "    user_info = t_data[u'user']\n",
    "    entities_info = t_data[u'entities']\n",
    "    return (t_data[u'id'],\n",
    "            t_data[u'text'],\n",
    "            t_data[u'favorite_count'],\n",
    "            t_data[u'is_quote_status'],\n",
    "            t_data[u'in_reply_to_status_id'] is not None,\n",
    "            t_data[u'retweet_count'],\n",
    "            user_info[u'id'],\n",
    "            user_info[u'created_at'],\n",
    "            user_info[u'followers_count'],\n",
    "            user_info[u'friends_count'],\n",
    "            user_info[u'listed_count'],\n",
    "            user_info[u'statuses_count'],\n",
    "            user_info[u'verified'],\n",
    "            user_info[u'location'] != '',\n",
    "            user_info[u'url'] is not None,\n",
    "            len(entities_info[u'hashtags']),\n",
    "            len(entities_info[u'symbols']),\n",
    "            len(entities_info[u'urls']),\n",
    "            len(entities_info[u'user_mentions']),\n",
    "            t_data[u'created_at'],\n",
    "           ) + tuple(line)"
   ]
  },
  {
   "cell_type": "markdown",
   "metadata": {},
   "source": [
    "## Semeval data loading"
   ]
  },
  {
   "cell_type": "code",
   "execution_count": 7,
   "metadata": {},
   "outputs": [
    {
     "name": "stdout",
     "output_type": "stream",
     "text": [
      "('semeval', 'english', 'train') Files:\n",
      "[0] /homed/smishra8/Code/Old_Codes/Code/DeepLearning/SemEval/Task-Sentiment/data/DOWNLOAD/Subtask_A/twitter-2016train-A.txt\n",
      "[1] /homed/smishra8/Code/Old_Codes/Code/DeepLearning/SemEval/Task-Sentiment/data/DOWNLOAD/Subtask_A/twitter-2015train-A.txt\n",
      "[2] /homed/smishra8/Code/Old_Codes/Code/DeepLearning/SemEval/Task-Sentiment/data/DOWNLOAD/Subtask_A/twitter-2013train-A.txt\n",
      "\n",
      "Missing data: 1006, number of annotater items: 1\n",
      "Missing data: 118, number of annotater items: 1\n",
      "Missing data: 2324, number of annotater items: 1\n",
      "Found data for 12725 instances\n",
      "('semeval', 'english', 'dev') Files:\n",
      "[0] /homed/smishra8/Code/Old_Codes/Code/DeepLearning/SemEval/Task-Sentiment/data/DOWNLOAD/Subtask_A/twitter-2016devtest-A.txt\n",
      "[1] /homed/smishra8/Code/Old_Codes/Code/DeepLearning/SemEval/Task-Sentiment/data/DOWNLOAD/Subtask_A/twitter-2013dev-A.txt\n",
      "[2] /homed/smishra8/Code/Old_Codes/Code/DeepLearning/SemEval/Task-Sentiment/data/DOWNLOAD/Subtask_A/twitter-2016dev-A.txt\n",
      "\n",
      "Missing data: 329, number of annotater items: 1\n",
      "Missing data: 406, number of annotater items: 1\n",
      "Missing data: 326, number of annotater items: 1\n",
      "Found data for 4592 instances\n",
      "('semeval', 'english', 'test') Files:\n",
      "[0] /homed/smishra8/Code/Old_Codes/Code/DeepLearning/SemEval/Task-Sentiment/data/DOWNLOAD/Subtask_A/twitter-2014test-A.txt\n",
      "[1] /homed/smishra8/Code/Old_Codes/Code/DeepLearning/SemEval/Task-Sentiment/data/DOWNLOAD/Subtask_A/twitter-2013test-A.txt\n",
      "[2] /homed/smishra8/Code/Old_Codes/Code/DeepLearning/SemEval/Task-Sentiment/data/DOWNLOAD/Subtask_A/twitter-2015test-A.txt\n",
      "[3] /homed/smishra8/Code/Old_Codes/Code/DeepLearning/SemEval/Task-Sentiment/data/DOWNLOAD/Subtask_A/twitter-2016test-A.txt\n",
      "\n",
      "Missing data: 386, number of annotater items: 1\n",
      "Missing data: 821, number of annotater items: 1\n",
      "Missing data: 481, number of annotater items: 1\n",
      "Missing data: 3533, number of annotater items: 1\n",
      "Found data for 23201 instances\n",
      "('semeval', 'arabic', 'train') Files:\n",
      "[0] /homed/smishra8/Code/Old_Codes/Code/DeepLearning/SemEval/Task-Sentiment/data/DOWNLOAD/ARABIC/TRAIN-ONLY/SemEval2017-task4-train-only.subtask-A.arabic.txt\n",
      "\n",
      "Missing data: 256, number of annotater items: 1\n",
      "Found data for 2428 instances\n",
      "('semeval', 'arabic', 'test') Files:\n",
      "[0] /homed/smishra8/Code/Old_Codes/Code/DeepLearning/SemEval/Task-Sentiment/data/DOWNLOAD/ARABIC/DEV/SemEval2017-task4-dev.subtask-A.arabic.txt\n",
      "\n",
      "Missing data: 73, number of annotater items: 1\n",
      "Found data for 598 instances\n"
     ]
    }
   ],
   "source": [
    "file_extractor_params=[\n",
    "    ((\"semeval\", \"english\", \"train\"), english_files, r'.*201[3456]train.*A\\.txt$'),\n",
    "    ((\"semeval\", \"english\", \"dev\"), english_files, r'.*201[3456]dev.*A\\.txt$'),\n",
    "    ((\"semeval\", \"english\", \"test\"), english_files, r'.*201[3456]test.*A\\.txt$'),\n",
    "    ((\"semeval\", \"arabic\", \"train\"), arabic_files, r'.*train.*A\\.arabic\\.txt$'),\n",
    "    ((\"semeval\", \"arabic\", \"test\"), arabic_files, r'.*dev.*A\\.arabic\\.txt$'),\n",
    "]\n",
    "\n",
    "datasets = dict()\n",
    "for data_key, files, pattern in file_extractor_params:\n",
    "    files = list(filter_filenames(files, pattern=re.compile(pattern)))\n",
    "    print_filenames(files, title=data_key)\n",
    "    file_data = sum((get_training_data(\n",
    "        fname, TWEET_ID2DATA,\n",
    "        extractor_func=simple_extractor_func\n",
    "    ) for fname in files), [])\n",
    "    print \"Found data for %s instances\" % len(file_data)\n",
    "    datasets[data_key] = file_data"
   ]
  },
  {
   "cell_type": "code",
   "execution_count": 8,
   "metadata": {},
   "outputs": [
    {
     "name": "stdout",
     "output_type": "stream",
     "text": [
      "('clarin', 'english', 'all') Files:\n",
      "[0] /homed/smishra8/Code/Old_Codes/Code/DeepLearning/TwitterDatasets/Tweets15Langs/data/English_Twitter_sentiment.csv\n",
      "\n",
      "Reading header:  ('TweetID', 'HandLabel', 'AnnotatorID')\n",
      "Missing data: 30377, number of annotater items: 1\n",
      "Found data for 72657 instances\n"
     ]
    }
   ],
   "source": [
    "data_key, files, pattern = ((\"clarin\", \"english\", \"all\"), clarin_english_files, r'.*')\n",
    "files = list(filter_filenames(files, pattern=re.compile(pattern)))\n",
    "print_filenames(files, title=data_key)\n",
    "file_data = sum((get_training_data(\n",
    "    fname, TWEET_ID2DATA,\n",
    "    extractor_func=simple_extractor_func,\n",
    "            sep=',', header=True,\n",
    "            line_extractor=lambda x: [str.lower(k) for k in x[1:2]]\n",
    ") for fname in files), [])\n",
    "print \"Found data for %s instances\" % len(file_data)\n",
    "datasets[data_key] = file_data"
   ]
  },
  {
   "cell_type": "code",
   "execution_count": 9,
   "metadata": {},
   "outputs": [
    {
     "name": "stdout",
     "output_type": "stream",
     "text": [
      "('airline', 'english', 'all') Files:\n",
      "[0] /homed/smishra8/Code/Old_Codes/Code/DeepLearning/TwitterDatasets/CrowdFlower/data/airline/tweet_sentiments.txt\n",
      "\n",
      "Reading header:  ('tweet_id', 'sentiment', 'airline')\n",
      "Missing data: 2227, number of annotater items: 1\n",
      "Found data for 12258 instances\n",
      "('gop_debate', 'english', 'all') Files:\n",
      "[0] /homed/smishra8/Code/Old_Codes/Code/DeepLearning/TwitterDatasets/CrowdFlower/data/gopdebate/tweet_sentiments.txt\n",
      "\n",
      "Reading header:  ('tweet_id', 'sentiment', 'candidate', 'subject_matter')\n",
      "Missing data: 3806, number of annotater items: 1\n",
      "Found data for 10031 instances\n"
     ]
    }
   ],
   "source": [
    "file_extractor_params=[\n",
    "    ((\"airline\", \"english\", \"all\"), airline_files, r'.*'),\n",
    "    ((\"gop_debate\", \"english\", \"all\"), gop_debate_files, r'.*'),\n",
    "]\n",
    "for data_key, files, pattern in file_extractor_params:\n",
    "    files = list(filter_filenames(files, pattern=re.compile(pattern)))\n",
    "    print_filenames(files, title=data_key)\n",
    "    file_data = sum((get_training_data(\n",
    "        fname, TWEET_ID2DATA,\n",
    "        extractor_func=simple_extractor_func,\n",
    "                sep='\\t', header=True,\n",
    "                line_extractor=lambda x: [str.lower(k) for k in x[1:2]]\n",
    "    ) for fname in files), [])\n",
    "    print \"Found data for %s instances\" % len(file_data)\n",
    "    datasets[data_key] = file_data"
   ]
  },
  {
   "cell_type": "code",
   "execution_count": 10,
   "metadata": {},
   "outputs": [
    {
     "name": "stdout",
     "output_type": "stream",
     "text": [
      "('obama_debate', 'english', 'all') Files:\n",
      "[0] /homed/smishra8/Code/Old_Codes/Code/DeepLearning/TwitterDatasets/updown/data/shamma/orig/tweet_sentiments.txt\n",
      "\n",
      "Reading header:  ('tweet.id', 'sentiment')\n",
      "Missing data: 630, number of annotater items: 1\n",
      "Found data for 2608 instances\n"
     ]
    }
   ],
   "source": [
    "data_key, files, pattern = ((\"obama_debate\", \"english\", \"all\"), obama_debate_files, r'.*')\n",
    "files = list(filter_filenames(files, pattern=re.compile(pattern)))\n",
    "print_filenames(files, title=data_key)\n",
    "file_data = sum((get_training_data(\n",
    "    fname, TWEET_ID2DATA,\n",
    "    extractor_func=simple_extractor_func,\n",
    "            sep='\\t', header=True,\n",
    "            line_extractor=lambda x: [str.lower(k) for k in x[1:2]]\n",
    ") for fname in files), [])\n",
    "print \"Found data for %s instances\" % len(file_data)\n",
    "datasets[data_key] = file_data"
   ]
  },
  {
   "cell_type": "code",
   "execution_count": 11,
   "metadata": {},
   "outputs": [
    {
     "name": "stdout",
     "output_type": "stream",
     "text": [
      "('hcr', 'english', 'all') Files:\n",
      "[0] /homed/smishra8/Code/Old_Codes/Code/DeepLearning/TwitterDatasets/updown/data/hcr/tweet_sentiments.txt\n",
      "\n",
      "Reading header:  ('tweet id', 'sentiment', 'filename')\n",
      "Missing data: 383, number of annotater items: 2\n",
      "Found data for 2131 instances\n",
      "('hcr', 'english', 'train'): 690\n",
      "('hcr', 'english', 'dev'): 724\n",
      "('hcr', 'english', 'test'): 717\n"
     ]
    }
   ],
   "source": [
    "data_key, files, pattern = ((\"hcr\", \"english\", \"all\"), hcr_files, r'.*')\n",
    "files = list(filter_filenames(files, pattern=re.compile(pattern)))\n",
    "print_filenames(files, title=data_key)\n",
    "file_data = sum((get_training_data(\n",
    "    fname, TWEET_ID2DATA,\n",
    "    extractor_func=simple_extractor_func,\n",
    "            sep='\\t', header=True,\n",
    "            line_extractor=lambda x: [str.lower(k) for k in x[1:3]]\n",
    ") for fname in files), [])\n",
    "print \"Found data for %s instances\" % len(file_data)\n",
    "for datasplit in [\"train\", \"dev\", \"test\"]:\n",
    "    file_data_split = map(lambda x: x[:-1], filter(lambda x: datasplit in x[-1], file_data))\n",
    "    print \"%s: %s\" % (data_key[:-1] + (datasplit,), len(file_data_split))\n",
    "    datasets[data_key[:-1] + (datasplit,)] = file_data_split"
   ]
  },
  {
   "cell_type": "code",
   "execution_count": 12,
   "metadata": {},
   "outputs": [
    {
     "name": "stdout",
     "output_type": "stream",
     "text": [
      "('semeval', 'arabic', 'train') (2428, 21)\n",
      "('semeval', 'arabic', 'test') (598, 21)\n",
      "('semeval', 'english', 'dev') (4592, 21)\n",
      "('semeval', 'english', 'test') (23201, 21)\n",
      "('semeval', 'english', 'train') (12725, 21)\n",
      "('clarin', 'english', 'all') (72657, 21)\n",
      "('hcr', 'english', 'test') (717, 21)\n",
      "('hcr', 'english', 'train') (690, 21)\n",
      "('obama_debate', 'english', 'all') (2608, 21)\n",
      "('hcr', 'english', 'dev') (724, 21)\n",
      "('gop_debate', 'english', 'all') (10031, 21)\n",
      "('airline', 'english', 'all') (12258, 21)\n",
      "12\n",
      "(143229, 24)\n"
     ]
    }
   ],
   "source": [
    "data_cols = ['tid', 'text', 'favorites', 'is_quote', 'is_reply', 'retweets',\n",
    "             'u_id', 'u_created_at','u_followers', 'u_friends', 'u_lists', 'u_statuses',\n",
    "             'u_verified', 'u_location','u_has_url',\n",
    "             'n_hashtags', 'n_symbols', 'n_urls', 'n_mentions', 'created_at',\n",
    "             'label']\n",
    "new_cols = [\"dataset\", \"language\", \"datasplit\"]\n",
    "df = []\n",
    "for data_labels, data_items in datasets.iteritems():\n",
    "    df_t = pd.DataFrame(data_items, columns=data_cols)\n",
    "    print data_labels, df_t.shape\n",
    "    df.append(df_t.assign(**dict(zip(new_cols, data_labels))))\n",
    "print len(df)\n",
    "df = pd.concat(df, axis=0)\n",
    "print df.shape"
   ]
  },
  {
   "cell_type": "code",
   "execution_count": 13,
   "metadata": {},
   "outputs": [
    {
     "data": {
      "text/plain": [
       "True     100723\n",
       "False     42506\n",
       "Name: u_location, dtype: int64"
      ]
     },
     "execution_count": 13,
     "metadata": {},
     "output_type": "execute_result"
    }
   ],
   "source": [
    "df.u_location.value_counts()"
   ]
  },
  {
   "cell_type": "code",
   "execution_count": 14,
   "metadata": {},
   "outputs": [
    {
     "data": {
      "text/plain": [
       "1240599805    113\n",
       "320781491      63\n",
       "118837027      55\n",
       "15976697       49\n",
       "13662722       47\n",
       "Name: u_id, dtype: int64"
      ]
     },
     "execution_count": 14,
     "metadata": {},
     "output_type": "execute_result"
    }
   ],
   "source": [
    "df.u_id.value_counts().head()"
   ]
  },
  {
   "cell_type": "code",
   "execution_count": 15,
   "metadata": {},
   "outputs": [
    {
     "data": {
      "text/plain": [
       "(115778,)"
      ]
     },
     "execution_count": 15,
     "metadata": {},
     "output_type": "execute_result"
    }
   ],
   "source": [
    "df.u_id.value_counts().shape"
   ]
  },
  {
   "cell_type": "code",
   "execution_count": 16,
   "metadata": {},
   "outputs": [
    {
     "data": {
      "text/plain": [
       "<matplotlib.axes._subplots.AxesSubplot at 0x7f04d5e184d0>"
      ]
     },
     "execution_count": 16,
     "metadata": {},
     "output_type": "execute_result"
    },
    {
     "name": "stderr",
     "output_type": "stream",
     "text": [
      "/homed/content/anaconda3/envs/python2/lib/python2.7/site-packages/matplotlib/font_manager.py:1297: UserWarning: findfont: Font family [u'sans-serif'] not found. Falling back to DejaVu Sans\n",
      "  (prop.get_family(), self.defaultFamily[fontext]))\n"
     ]
    },
    {
     "data": {
      "image/png": "[encoded data removed]",
      "text/plain": [
       "<matplotlib.figure.Figure at 0x7f057f272ed0>"
      ]
     },
     "metadata": {},
     "output_type": "display_data"
    }
   ],
   "source": [
    "df[[\"u_id\", \"u_statuses\"]].groupby(\"u_id\").first().sort_values(\n",
    "    \"u_statuses\", ascending=False).apply(lambda x: np.log10(x+1)).u_statuses.hist()\n"
   ]
  },
  {
   "cell_type": "code",
   "execution_count": 17,
   "metadata": {},
   "outputs": [
    {
     "data": {
      "text/plain": [
       "4.007822017422003"
      ]
     },
     "execution_count": 17,
     "metadata": {},
     "output_type": "execute_result"
    }
   ],
   "source": [
    "df[[\"u_id\", \"u_statuses\"]].groupby(\"u_id\").first().sort_values(\n",
    "    \"u_statuses\", ascending=False).apply(lambda x: np.log10(x+1)).u_statuses.mean()"
   ]
  },
  {
   "cell_type": "code",
   "execution_count": 18,
   "metadata": {},
   "outputs": [
    {
     "data": {
      "text/html": [
       "<div>\n",
       "<style>\n",
       "    .dataframe thead tr:only-child th {\n",
       "        text-align: right;\n",
       "    }\n",
       "\n",
       "    .dataframe thead th {\n",
       "        text-align: left;\n",
       "    }\n",
       "\n",
       "    .dataframe tbody tr th {\n",
       "        vertical-align: top;\n",
       "    }\n",
       "</style>\n",
       "<table border=\"1\" class=\"dataframe\">\n",
       "  <thead>\n",
       "    <tr style=\"text-align: right;\">\n",
       "      <th></th>\n",
       "      <th></th>\n",
       "      <th>u_statuses</th>\n",
       "    </tr>\n",
       "    <tr>\n",
       "      <th>tid</th>\n",
       "      <th>u_id</th>\n",
       "      <th></th>\n",
       "    </tr>\n",
       "  </thead>\n",
       "  <tbody>\n",
       "    <tr>\n",
       "      <th>511878434398543872</th>\n",
       "      <th>492532196</th>\n",
       "      <td>6510541</td>\n",
       "    </tr>\n",
       "    <tr>\n",
       "      <th>511868481319350273</th>\n",
       "      <th>492532196</th>\n",
       "      <td>6510541</td>\n",
       "    </tr>\n",
       "    <tr>\n",
       "      <th>511885958992904192</th>\n",
       "      <th>492532196</th>\n",
       "      <td>6510541</td>\n",
       "    </tr>\n",
       "    <tr>\n",
       "      <th>511448287573213184</th>\n",
       "      <th>2169277098</th>\n",
       "      <td>4014482</td>\n",
       "    </tr>\n",
       "    <tr>\n",
       "      <th>513229038035673088</th>\n",
       "      <th>1338951085</th>\n",
       "      <td>3377886</td>\n",
       "    </tr>\n",
       "  </tbody>\n",
       "</table>\n",
       "</div>"
      ],
      "text/plain": [
       "                               u_statuses\n",
       "tid                u_id                  \n",
       "511878434398543872 492532196      6510541\n",
       "511868481319350273 492532196      6510541\n",
       "511885958992904192 492532196      6510541\n",
       "511448287573213184 2169277098     4014482\n",
       "513229038035673088 1338951085     3377886"
      ]
     },
     "execution_count": 18,
     "metadata": {},
     "output_type": "execute_result"
    }
   ],
   "source": [
    "df[[\"tid\", \"u_id\", \"u_statuses\"]].groupby([\"tid\", \"u_id\"]).first().sort_values(\"u_statuses\", ascending=False).head()"
   ]
  },
  {
   "cell_type": "code",
   "execution_count": 19,
   "metadata": {},
   "outputs": [
    {
     "data": {
      "text/html": [
       "<div>\n",
       "<style>\n",
       "    .dataframe thead tr:only-child th {\n",
       "        text-align: right;\n",
       "    }\n",
       "\n",
       "    .dataframe thead th {\n",
       "        text-align: left;\n",
       "    }\n",
       "\n",
       "    .dataframe tbody tr th {\n",
       "        vertical-align: top;\n",
       "    }\n",
       "</style>\n",
       "<table border=\"1\" class=\"dataframe\">\n",
       "  <thead>\n",
       "    <tr style=\"text-align: right;\">\n",
       "      <th></th>\n",
       "      <th>tid</th>\n",
       "      <th>u_statuses</th>\n",
       "    </tr>\n",
       "    <tr>\n",
       "      <th>u_id</th>\n",
       "      <th></th>\n",
       "      <th></th>\n",
       "    </tr>\n",
       "  </thead>\n",
       "  <tbody>\n",
       "    <tr>\n",
       "      <th>492532196</th>\n",
       "      <td>511885958992904192</td>\n",
       "      <td>6510541</td>\n",
       "    </tr>\n",
       "    <tr>\n",
       "      <th>2169277098</th>\n",
       "      <td>511448287573213184</td>\n",
       "      <td>4014482</td>\n",
       "    </tr>\n",
       "    <tr>\n",
       "      <th>1338951085</th>\n",
       "      <td>513229038035673088</td>\n",
       "      <td>3377886</td>\n",
       "    </tr>\n",
       "    <tr>\n",
       "      <th>279118291</th>\n",
       "      <td>623859753568051200</td>\n",
       "      <td>3307959</td>\n",
       "    </tr>\n",
       "    <tr>\n",
       "      <th>59804598</th>\n",
       "      <td>513170741408169985</td>\n",
       "      <td>2762552</td>\n",
       "    </tr>\n",
       "  </tbody>\n",
       "</table>\n",
       "</div>"
      ],
      "text/plain": [
       "                           tid  u_statuses\n",
       "u_id                                      \n",
       "492532196   511885958992904192     6510541\n",
       "2169277098  511448287573213184     4014482\n",
       "1338951085  513229038035673088     3377886\n",
       "279118291   623859753568051200     3307959\n",
       "59804598    513170741408169985     2762552"
      ]
     },
     "execution_count": 19,
     "metadata": {},
     "output_type": "execute_result"
    }
   ],
   "source": [
    "df.groupby(\"u_id\").agg({\"tid\": max, \"u_statuses\": \"first\"}).sort_values(\"u_statuses\", ascending=False).head()"
   ]
  },
  {
   "cell_type": "code",
   "execution_count": 20,
   "metadata": {},
   "outputs": [
    {
     "data": {
      "text/plain": [
       "(115778, 2)"
      ]
     },
     "execution_count": 20,
     "metadata": {},
     "output_type": "execute_result"
    }
   ],
   "source": [
    "df.groupby(\"u_id\").agg({\"tid\": max, \"u_statuses\": \"first\"}).sort_values(\"u_statuses\", ascending=False).shape"
   ]
  },
  {
   "cell_type": "code",
   "execution_count": 21,
   "metadata": {},
   "outputs": [
    {
     "name": "stdout",
     "output_type": "stream",
     "text": [
      "u_id\ttid\tu_statuses\r\n",
      "492532196\t511885958992904192\t6510541\r\n",
      "2169277098\t511448287573213184\t4014482\r\n",
      "1338951085\t513229038035673088\t3377886\r\n",
      "279118291\t623859753568051200\t3307959\r\n",
      "59804598\t513170741408169985\t2762552\r\n",
      "100986964\t634897074417442816\t2515470\r\n",
      "1853213588\t513026428003438593\t2510061\r\n",
      "68956490\t10843026079\t2497529\r\n",
      "23138515\t513300861326741504\t2476273\r\n"
     ]
    }
   ],
   "source": [
    "df.groupby(\"u_id\").agg(\n",
    "    {\"tid\": max, \"u_statuses\": \"first\"}\n",
    ").sort_values(\n",
    "    \"u_statuses\", ascending=False\n",
    ").to_csv(\"./data/tid_uid.txt\", sep=\"\\t\")\n",
    "\n",
    "! head data/tid_uid.txt"
   ]
  },
  {
   "cell_type": "code",
   "execution_count": 22,
   "metadata": {},
   "outputs": [
    {
     "data": {
      "text/html": [
       "<div>\n",
       "<style>\n",
       "    .dataframe thead tr:only-child th {\n",
       "        text-align: right;\n",
       "    }\n",
       "\n",
       "    .dataframe thead th {\n",
       "        text-align: left;\n",
       "    }\n",
       "\n",
       "    .dataframe tbody tr th {\n",
       "        vertical-align: top;\n",
       "    }\n",
       "</style>\n",
       "<table border=\"1\" class=\"dataframe\">\n",
       "  <thead>\n",
       "    <tr style=\"text-align: right;\">\n",
       "      <th></th>\n",
       "      <th>text</th>\n",
       "    </tr>\n",
       "    <tr>\n",
       "      <th>tid</th>\n",
       "      <th></th>\n",
       "    </tr>\n",
       "  </thead>\n",
       "  <tbody>\n",
       "    <tr>\n",
       "      <th>936466992</th>\n",
       "      <td>Here we go. #tweetdebate</td>\n",
       "    </tr>\n",
       "    <tr>\n",
       "      <th>936467521</th>\n",
       "      <td>#tweetdebate letting mom/dad follow debate on ...</td>\n",
       "    </tr>\n",
       "    <tr>\n",
       "      <th>936467712</th>\n",
       "      <td>what is an appropriately bi-partisan food to b...</td>\n",
       "    </tr>\n",
       "    <tr>\n",
       "      <th>936468396</th>\n",
       "      <td>@current one minute to get your stuff together...</td>\n",
       "    </tr>\n",
       "    <tr>\n",
       "      <th>936468736</th>\n",
       "      <td>@current I've got the live stream going #curre...</td>\n",
       "    </tr>\n",
       "  </tbody>\n",
       "</table>\n",
       "</div>"
      ],
      "text/plain": [
       "                                                        text\n",
       "tid                                                         \n",
       "936466992                           Here we go. #tweetdebate\n",
       "936467521  #tweetdebate letting mom/dad follow debate on ...\n",
       "936467712  what is an appropriately bi-partisan food to b...\n",
       "936468396  @current one minute to get your stuff together...\n",
       "936468736  @current I've got the live stream going #curre..."
      ]
     },
     "execution_count": 22,
     "metadata": {},
     "output_type": "execute_result"
    }
   ],
   "source": [
    "df[[\"tid\", \"text\"]].groupby(\"tid\").first().head()"
   ]
  },
  {
   "cell_type": "code",
   "execution_count": 23,
   "metadata": {},
   "outputs": [
    {
     "data": {
      "text/plain": [
       "(131605, 1)"
      ]
     },
     "execution_count": 23,
     "metadata": {},
     "output_type": "execute_result"
    }
   ],
   "source": [
    "df[[\"tid\", \"text\"]].groupby(\"tid\").first().shape"
   ]
  },
  {
   "cell_type": "markdown",
   "metadata": {},
   "source": [
    "## Remove duplicates and fix labels"
   ]
  },
  {
   "cell_type": "code",
   "execution_count": 24,
   "metadata": {},
   "outputs": [
    {
     "data": {
      "text/plain": [
       "641548065040658436    3\n",
       "785630797755736064    3\n",
       "785630883797667840    3\n",
       "626516723647315972    3\n",
       "636871042791813120    3\n",
       "Name: tid, dtype: int64"
      ]
     },
     "execution_count": 24,
     "metadata": {},
     "output_type": "execute_result"
    }
   ],
   "source": [
    "df[\"tid\"].value_counts().head()"
   ]
  },
  {
   "cell_type": "code",
   "execution_count": 25,
   "metadata": {},
   "outputs": [
    {
     "data": {
      "text/plain": [
       "11616"
      ]
     },
     "execution_count": 25,
     "metadata": {},
     "output_type": "execute_result"
    }
   ],
   "source": [
    "(df[\"tid\"].value_counts() > 1).sum()"
   ]
  },
  {
   "cell_type": "code",
   "execution_count": 26,
   "metadata": {},
   "outputs": [
    {
     "data": {
      "text/plain": [
       "(11616,)"
      ]
     },
     "execution_count": 26,
     "metadata": {},
     "output_type": "execute_result"
    }
   ],
   "source": [
    "df[\"tid\"].value_counts()[(df[\"tid\"].value_counts() > 1)].shape"
   ]
  },
  {
   "cell_type": "code",
   "execution_count": 27,
   "metadata": {},
   "outputs": [
    {
     "data": {
      "text/plain": [
       "23240L"
      ]
     },
     "execution_count": 27,
     "metadata": {},
     "output_type": "execute_result"
    }
   ],
   "source": [
    "df[\"tid\"].value_counts()[(df[\"tid\"].value_counts() > 1)].sum()"
   ]
  },
  {
   "cell_type": "code",
   "execution_count": 28,
   "metadata": {},
   "outputs": [
    {
     "data": {
      "text/plain": [
       "clarin,english,all        21980\n",
       "semeval,english,train       897\n",
       "semeval,english,test        210\n",
       "semeval,arabic,train         86\n",
       "semeval,english,dev          62\n",
       "semeval,arabic,test           4\n",
       "gop_debate,english,all        1\n",
       "Name: dataset_label, dtype: int64"
      ]
     },
     "execution_count": 28,
     "metadata": {},
     "output_type": "execute_result"
    }
   ],
   "source": [
    "df[df[\"tid\"].isin(\n",
    "        df[\"tid\"].value_counts()[\n",
    "            (df[\"tid\"].value_counts() > 1)\n",
    "        ].index.tolist())][new_cols].assign(\n",
    "    dataset_label=lambda x: x[new_cols].apply(\n",
    "        lambda k: \",\".join(k), axis=1)).dataset_label.value_counts()"
   ]
  },
  {
   "cell_type": "code",
   "execution_count": 29,
   "metadata": {},
   "outputs": [
    {
     "data": {
      "text/plain": [
       "(131605, 3)"
      ]
     },
     "execution_count": 29,
     "metadata": {},
     "output_type": "execute_result"
    }
   ],
   "source": [
    "df_t = pd.get_dummies(df[[\"tid\", \"label\"]], columns=[\"label\"]).groupby(\"tid\").sum()\n",
    "df_t.shape"
   ]
  },
  {
   "cell_type": "code",
   "execution_count": 30,
   "metadata": {},
   "outputs": [
    {
     "data": {
      "text/html": [
       "<div>\n",
       "<style>\n",
       "    .dataframe thead tr:only-child th {\n",
       "        text-align: right;\n",
       "    }\n",
       "\n",
       "    .dataframe thead th {\n",
       "        text-align: left;\n",
       "    }\n",
       "\n",
       "    .dataframe tbody tr th {\n",
       "        vertical-align: top;\n",
       "    }\n",
       "</style>\n",
       "<table border=\"1\" class=\"dataframe\">\n",
       "  <thead>\n",
       "    <tr style=\"text-align: right;\">\n",
       "      <th></th>\n",
       "      <th>label_negative</th>\n",
       "      <th>label_neutral</th>\n",
       "      <th>label_positive</th>\n",
       "    </tr>\n",
       "    <tr>\n",
       "      <th>tid</th>\n",
       "      <th></th>\n",
       "      <th></th>\n",
       "      <th></th>\n",
       "    </tr>\n",
       "  </thead>\n",
       "  <tbody>\n",
       "    <tr>\n",
       "      <th>936466992</th>\n",
       "      <td>0</td>\n",
       "      <td>1</td>\n",
       "      <td>0</td>\n",
       "    </tr>\n",
       "    <tr>\n",
       "      <th>936467521</th>\n",
       "      <td>0</td>\n",
       "      <td>1</td>\n",
       "      <td>0</td>\n",
       "    </tr>\n",
       "    <tr>\n",
       "      <th>936467712</th>\n",
       "      <td>0</td>\n",
       "      <td>1</td>\n",
       "      <td>0</td>\n",
       "    </tr>\n",
       "    <tr>\n",
       "      <th>936468396</th>\n",
       "      <td>0</td>\n",
       "      <td>1</td>\n",
       "      <td>0</td>\n",
       "    </tr>\n",
       "    <tr>\n",
       "      <th>936468736</th>\n",
       "      <td>0</td>\n",
       "      <td>0</td>\n",
       "      <td>1</td>\n",
       "    </tr>\n",
       "  </tbody>\n",
       "</table>\n",
       "</div>"
      ],
      "text/plain": [
       "           label_negative  label_neutral  label_positive\n",
       "tid                                                     \n",
       "936466992               0              1               0\n",
       "936467521               0              1               0\n",
       "936467712               0              1               0\n",
       "936468396               0              1               0\n",
       "936468736               0              0               1"
      ]
     },
     "execution_count": 30,
     "metadata": {},
     "output_type": "execute_result"
    }
   ],
   "source": [
    "df_t.head()"
   ]
  },
  {
   "cell_type": "code",
   "execution_count": 31,
   "metadata": {},
   "outputs": [
    {
     "name": "stderr",
     "output_type": "stream",
     "text": [
      "/home/content/anaconda3/envs/python2/lib/python2.7/site-packages/ipykernel_launcher.py:1: DeprecationWarning: \n",
      ".ix is deprecated. Please use\n",
      ".loc for label based indexing or\n",
      ".iloc for positional indexing\n",
      "\n",
      "See the documentation here:\n",
      "http://pandas.pydata.org/pandas-docs/stable/indexing.html#deprecate_ix\n",
      "  \"\"\"Entry point for launching an IPython kernel.\n"
     ]
    },
    {
     "data": {
      "text/plain": [
       "(11616, 3)"
      ]
     },
     "execution_count": 31,
     "metadata": {},
     "output_type": "execute_result"
    }
   ],
   "source": [
    "df_t.ix[(df_t.sum(axis=1) > 1)].shape"
   ]
  },
  {
   "cell_type": "code",
   "execution_count": 32,
   "metadata": {},
   "outputs": [
    {
     "data": {
      "text/plain": [
       "[[0, 1, 0], [0, 1, 0], [0, 1, 0], [0, 1, 0], [0, 0, 1]]"
      ]
     },
     "execution_count": 32,
     "metadata": {},
     "output_type": "execute_result"
    }
   ],
   "source": [
    "df_t.head().values.tolist()"
   ]
  },
  {
   "cell_type": "code",
   "execution_count": 33,
   "metadata": {},
   "outputs": [
    {
     "data": {
      "text/plain": [
       "(3395, 3)"
      ]
     },
     "execution_count": 33,
     "metadata": {},
     "output_type": "execute_result"
    }
   ],
   "source": [
    "df_t.ix[(df_t.apply(lambda x: len(filter(lambda k: k != 0, x.values)), axis=1) > 1)].shape"
   ]
  },
  {
   "cell_type": "code",
   "execution_count": 34,
   "metadata": {},
   "outputs": [
    {
     "data": {
      "text/html": [
       "<div>\n",
       "<style>\n",
       "    .dataframe thead tr:only-child th {\n",
       "        text-align: right;\n",
       "    }\n",
       "\n",
       "    .dataframe thead th {\n",
       "        text-align: left;\n",
       "    }\n",
       "\n",
       "    .dataframe tbody tr th {\n",
       "        vertical-align: top;\n",
       "    }\n",
       "</style>\n",
       "<table border=\"1\" class=\"dataframe\">\n",
       "  <thead>\n",
       "    <tr style=\"text-align: right;\">\n",
       "      <th></th>\n",
       "      <th>label_negative</th>\n",
       "      <th>label_neutral</th>\n",
       "      <th>label_positive</th>\n",
       "    </tr>\n",
       "    <tr>\n",
       "      <th>tid</th>\n",
       "      <th></th>\n",
       "      <th></th>\n",
       "      <th></th>\n",
       "    </tr>\n",
       "  </thead>\n",
       "  <tbody>\n",
       "    <tr>\n",
       "      <th>100018506082435072</th>\n",
       "      <td>0</td>\n",
       "      <td>1</td>\n",
       "      <td>1</td>\n",
       "    </tr>\n",
       "    <tr>\n",
       "      <th>100154119884513280</th>\n",
       "      <td>1</td>\n",
       "      <td>0</td>\n",
       "      <td>1</td>\n",
       "    </tr>\n",
       "    <tr>\n",
       "      <th>256416307182985217</th>\n",
       "      <td>0</td>\n",
       "      <td>1</td>\n",
       "      <td>1</td>\n",
       "    </tr>\n",
       "    <tr>\n",
       "      <th>256787668367704066</th>\n",
       "      <td>0</td>\n",
       "      <td>1</td>\n",
       "      <td>1</td>\n",
       "    </tr>\n",
       "    <tr>\n",
       "      <th>259077598968180736</th>\n",
       "      <td>1</td>\n",
       "      <td>1</td>\n",
       "      <td>0</td>\n",
       "    </tr>\n",
       "  </tbody>\n",
       "</table>\n",
       "</div>"
      ],
      "text/plain": [
       "                    label_negative  label_neutral  label_positive\n",
       "tid                                                              \n",
       "100018506082435072               0              1               1\n",
       "100154119884513280               1              0               1\n",
       "256416307182985217               0              1               1\n",
       "256787668367704066               0              1               1\n",
       "259077598968180736               1              1               0"
      ]
     },
     "execution_count": 34,
     "metadata": {},
     "output_type": "execute_result"
    }
   ],
   "source": [
    "df_t.ix[(df_t.apply(lambda x: len(filter(lambda k: k != 0, x.values)), axis=1) > 1)].head()"
   ]
  },
  {
   "cell_type": "code",
   "execution_count": 35,
   "metadata": {},
   "outputs": [
    {
     "data": {
      "text/html": [
       "<div>\n",
       "<style>\n",
       "    .dataframe thead tr:only-child th {\n",
       "        text-align: right;\n",
       "    }\n",
       "\n",
       "    .dataframe thead th {\n",
       "        text-align: left;\n",
       "    }\n",
       "\n",
       "    .dataframe tbody tr th {\n",
       "        vertical-align: top;\n",
       "    }\n",
       "</style>\n",
       "<table border=\"1\" class=\"dataframe\">\n",
       "  <thead>\n",
       "    <tr style=\"text-align: right;\">\n",
       "      <th></th>\n",
       "      <th>dataset</th>\n",
       "      <th>language</th>\n",
       "      <th>datasplit</th>\n",
       "    </tr>\n",
       "  </thead>\n",
       "  <tbody>\n",
       "    <tr>\n",
       "      <th>424</th>\n",
       "      <td>semeval</td>\n",
       "      <td>arabic</td>\n",
       "      <td>train</td>\n",
       "    </tr>\n",
       "    <tr>\n",
       "      <th>457</th>\n",
       "      <td>semeval</td>\n",
       "      <td>arabic</td>\n",
       "      <td>train</td>\n",
       "    </tr>\n",
       "    <tr>\n",
       "      <th>462</th>\n",
       "      <td>semeval</td>\n",
       "      <td>arabic</td>\n",
       "      <td>train</td>\n",
       "    </tr>\n",
       "    <tr>\n",
       "      <th>470</th>\n",
       "      <td>semeval</td>\n",
       "      <td>arabic</td>\n",
       "      <td>train</td>\n",
       "    </tr>\n",
       "    <tr>\n",
       "      <th>473</th>\n",
       "      <td>semeval</td>\n",
       "      <td>arabic</td>\n",
       "      <td>train</td>\n",
       "    </tr>\n",
       "  </tbody>\n",
       "</table>\n",
       "</div>"
      ],
      "text/plain": [
       "     dataset language datasplit\n",
       "424  semeval   arabic     train\n",
       "457  semeval   arabic     train\n",
       "462  semeval   arabic     train\n",
       "470  semeval   arabic     train\n",
       "473  semeval   arabic     train"
      ]
     },
     "execution_count": 35,
     "metadata": {},
     "output_type": "execute_result"
    }
   ],
   "source": [
    "df[df[\"tid\"].isin(df_t.ix[(df_t.apply(lambda x: len(filter(lambda k: k != 0, x.values)), axis=1) > 1)].index)][new_cols].head()"
   ]
  },
  {
   "cell_type": "code",
   "execution_count": 36,
   "metadata": {},
   "outputs": [
    {
     "data": {
      "text/plain": [
       "clarin,english,all        6626\n",
       "semeval,english,test        70\n",
       "semeval,english,train       42\n",
       "semeval,arabic,train        29\n",
       "semeval,english,dev         23\n",
       "gop_debate,english,all       1\n",
       "Name: dataset_label, dtype: int64"
      ]
     },
     "execution_count": 36,
     "metadata": {},
     "output_type": "execute_result"
    }
   ],
   "source": [
    "df[df[\"tid\"].isin(df_t.ix[(df_t.apply(lambda x: len(filter(lambda k: k != 0, x.values)), axis=1) > 1)].index)][new_cols].assign(\n",
    "    dataset_label=lambda x: x[new_cols].apply(\n",
    "        lambda k: \",\".join(k), axis=1)).dataset_label.value_counts()"
   ]
  },
  {
   "cell_type": "code",
   "execution_count": 37,
   "metadata": {},
   "outputs": [
    {
     "data": {
      "text/html": [
       "<div>\n",
       "<style>\n",
       "    .dataframe thead tr:only-child th {\n",
       "        text-align: right;\n",
       "    }\n",
       "\n",
       "    .dataframe thead th {\n",
       "        text-align: left;\n",
       "    }\n",
       "\n",
       "    .dataframe tbody tr th {\n",
       "        vertical-align: top;\n",
       "    }\n",
       "</style>\n",
       "<table border=\"1\" class=\"dataframe\">\n",
       "  <thead>\n",
       "    <tr style=\"text-align: right;\">\n",
       "      <th></th>\n",
       "      <th>dataset</th>\n",
       "      <th>language</th>\n",
       "      <th>datasplit</th>\n",
       "    </tr>\n",
       "  </thead>\n",
       "  <tbody>\n",
       "    <tr>\n",
       "      <th>1724</th>\n",
       "      <td>semeval</td>\n",
       "      <td>arabic</td>\n",
       "      <td>train</td>\n",
       "    </tr>\n",
       "    <tr>\n",
       "      <th>1797</th>\n",
       "      <td>semeval</td>\n",
       "      <td>arabic</td>\n",
       "      <td>train</td>\n",
       "    </tr>\n",
       "    <tr>\n",
       "      <th>2147</th>\n",
       "      <td>semeval</td>\n",
       "      <td>arabic</td>\n",
       "      <td>train</td>\n",
       "    </tr>\n",
       "  </tbody>\n",
       "</table>\n",
       "</div>"
      ],
      "text/plain": [
       "      dataset language datasplit\n",
       "1724  semeval   arabic     train\n",
       "1797  semeval   arabic     train\n",
       "2147  semeval   arabic     train"
      ]
     },
     "execution_count": 37,
     "metadata": {},
     "output_type": "execute_result"
    }
   ],
   "source": [
    "df[df[\"tid\"] == 785630797755736064][new_cols]"
   ]
  },
  {
   "cell_type": "code",
   "execution_count": 38,
   "metadata": {},
   "outputs": [
    {
     "data": {
      "text/plain": [
       "{626516723647315972: 3,\n",
       " 636871042791813120: 3,\n",
       " 641548065040658436: 3,\n",
       " 785630797755736064: 3,\n",
       " 785630883797667840: 3}"
      ]
     },
     "execution_count": 38,
     "metadata": {},
     "output_type": "execute_result"
    }
   ],
   "source": [
    "df.tid.value_counts().head().to_dict()"
   ]
  },
  {
   "cell_type": "code",
   "execution_count": 39,
   "metadata": {
    "collapsed": true
   },
   "outputs": [],
   "source": [
    "def get_correct_label(g):\n",
    "    labels = g.label.value_counts().to_dict()\n",
    "    non_zero_labels = dict(filter(lambda x: x[1] != 0, labels.items()))\n",
    "    if len(non_zero_labels) == 3:\n",
    "        return \"neutral\"\n",
    "    if len(non_zero_labels) == 1:\n",
    "        return non_zero_labels.keys()[0]\n",
    "    correct_label = [x for x in non_zero_labels.keys() if x != \"neutral\"][0]\n",
    "    return correct_label"
   ]
  },
  {
   "cell_type": "code",
   "execution_count": 40,
   "metadata": {},
   "outputs": [
    {
     "name": "stdout",
     "output_type": "stream",
     "text": [
      "CPU times: user 1min 46s, sys: 1.04 s, total: 1min 47s\n",
      "Wall time: 1min 46s\n"
     ]
    }
   ],
   "source": [
    "%%time\n",
    "df_t = df[[\"tid\", \"label\"]].groupby(\"tid\").apply(get_correct_label)\n",
    "df_t.head()"
   ]
  },
  {
   "cell_type": "code",
   "execution_count": 41,
   "metadata": {},
   "outputs": [
    {
     "data": {
      "text/plain": [
       "tid\n",
       "936466992     neutral\n",
       "936467521     neutral\n",
       "936467712     neutral\n",
       "936468396     neutral\n",
       "936468736    positive\n",
       "dtype: object"
      ]
     },
     "execution_count": 41,
     "metadata": {},
     "output_type": "execute_result"
    }
   ],
   "source": [
    "df_t.head()"
   ]
  },
  {
   "cell_type": "code",
   "execution_count": 42,
   "metadata": {},
   "outputs": [
    {
     "data": {
      "text/plain": [
       "(131605,)"
      ]
     },
     "execution_count": 42,
     "metadata": {},
     "output_type": "execute_result"
    }
   ],
   "source": [
    "df_t.shape"
   ]
  },
  {
   "cell_type": "code",
   "execution_count": 43,
   "metadata": {},
   "outputs": [
    {
     "data": {
      "text/plain": [
       "(131605, 24)"
      ]
     },
     "execution_count": 43,
     "metadata": {},
     "output_type": "execute_result"
    }
   ],
   "source": [
    "df_nodups = df.drop(\"label\", axis=1).groupby(\"tid\").first().merge(\n",
    "    df_t.to_frame().rename(columns={0: \"label\"}),left_index=True, right_index=True).reset_index()\n",
    "df_nodups.shape"
   ]
  },
  {
   "cell_type": "code",
   "execution_count": 44,
   "metadata": {},
   "outputs": [
    {
     "data": {
      "text/html": [
       "<div>\n",
       "<style>\n",
       "    .dataframe thead tr:only-child th {\n",
       "        text-align: right;\n",
       "    }\n",
       "\n",
       "    .dataframe thead th {\n",
       "        text-align: left;\n",
       "    }\n",
       "\n",
       "    .dataframe tbody tr th {\n",
       "        vertical-align: top;\n",
       "    }\n",
       "</style>\n",
       "<table border=\"1\" class=\"dataframe\">\n",
       "  <thead>\n",
       "    <tr style=\"text-align: right;\">\n",
       "      <th></th>\n",
       "      <th>tid</th>\n",
       "      <th>text</th>\n",
       "      <th>favorites</th>\n",
       "      <th>is_quote</th>\n",
       "      <th>is_reply</th>\n",
       "      <th>retweets</th>\n",
       "      <th>u_id</th>\n",
       "      <th>u_created_at</th>\n",
       "      <th>u_followers</th>\n",
       "      <th>u_friends</th>\n",
       "      <th>...</th>\n",
       "      <th>u_has_url</th>\n",
       "      <th>n_hashtags</th>\n",
       "      <th>n_symbols</th>\n",
       "      <th>n_urls</th>\n",
       "      <th>n_mentions</th>\n",
       "      <th>created_at</th>\n",
       "      <th>dataset</th>\n",
       "      <th>datasplit</th>\n",
       "      <th>language</th>\n",
       "      <th>label</th>\n",
       "    </tr>\n",
       "  </thead>\n",
       "  <tbody>\n",
       "    <tr>\n",
       "      <th>0</th>\n",
       "      <td>936466992</td>\n",
       "      <td>Here we go. #tweetdebate</td>\n",
       "      <td>0</td>\n",
       "      <td>False</td>\n",
       "      <td>False</td>\n",
       "      <td>0</td>\n",
       "      <td>14898808</td>\n",
       "      <td>Sun May 25 13:52:19 +0000 2008</td>\n",
       "      <td>6872</td>\n",
       "      <td>1643</td>\n",
       "      <td>...</td>\n",
       "      <td>True</td>\n",
       "      <td>1</td>\n",
       "      <td>0</td>\n",
       "      <td>0</td>\n",
       "      <td>0</td>\n",
       "      <td>Sat Sep 27 01:00:06 +0000 2008</td>\n",
       "      <td>obama_debate</td>\n",
       "      <td>all</td>\n",
       "      <td>english</td>\n",
       "      <td>neutral</td>\n",
       "    </tr>\n",
       "    <tr>\n",
       "      <th>1</th>\n",
       "      <td>936467521</td>\n",
       "      <td>#tweetdebate letting mom/dad follow debate on ...</td>\n",
       "      <td>0</td>\n",
       "      <td>False</td>\n",
       "      <td>False</td>\n",
       "      <td>0</td>\n",
       "      <td>14187773</td>\n",
       "      <td>Thu Mar 20 22:25:49 +0000 2008</td>\n",
       "      <td>1456</td>\n",
       "      <td>664</td>\n",
       "      <td>...</td>\n",
       "      <td>False</td>\n",
       "      <td>1</td>\n",
       "      <td>0</td>\n",
       "      <td>0</td>\n",
       "      <td>0</td>\n",
       "      <td>Sat Sep 27 01:00:24 +0000 2008</td>\n",
       "      <td>obama_debate</td>\n",
       "      <td>all</td>\n",
       "      <td>english</td>\n",
       "      <td>neutral</td>\n",
       "    </tr>\n",
       "    <tr>\n",
       "      <th>2</th>\n",
       "      <td>936467712</td>\n",
       "      <td>what is an appropriately bi-partisan food to b...</td>\n",
       "      <td>0</td>\n",
       "      <td>False</td>\n",
       "      <td>False</td>\n",
       "      <td>0</td>\n",
       "      <td>14759482</td>\n",
       "      <td>Tue May 13 14:38:08 +0000 2008</td>\n",
       "      <td>718</td>\n",
       "      <td>1609</td>\n",
       "      <td>...</td>\n",
       "      <td>False</td>\n",
       "      <td>1</td>\n",
       "      <td>0</td>\n",
       "      <td>0</td>\n",
       "      <td>0</td>\n",
       "      <td>Sat Sep 27 01:00:32 +0000 2008</td>\n",
       "      <td>obama_debate</td>\n",
       "      <td>all</td>\n",
       "      <td>english</td>\n",
       "      <td>neutral</td>\n",
       "    </tr>\n",
       "    <tr>\n",
       "      <th>3</th>\n",
       "      <td>936468396</td>\n",
       "      <td>@current one minute to get your stuff together...</td>\n",
       "      <td>0</td>\n",
       "      <td>False</td>\n",
       "      <td>True</td>\n",
       "      <td>0</td>\n",
       "      <td>10450342</td>\n",
       "      <td>Wed Nov 21 20:25:33 +0000 2007</td>\n",
       "      <td>2381</td>\n",
       "      <td>3918</td>\n",
       "      <td>...</td>\n",
       "      <td>True</td>\n",
       "      <td>1</td>\n",
       "      <td>0</td>\n",
       "      <td>0</td>\n",
       "      <td>1</td>\n",
       "      <td>Sat Sep 27 01:00:58 +0000 2008</td>\n",
       "      <td>obama_debate</td>\n",
       "      <td>all</td>\n",
       "      <td>english</td>\n",
       "      <td>neutral</td>\n",
       "    </tr>\n",
       "    <tr>\n",
       "      <th>4</th>\n",
       "      <td>936468736</td>\n",
       "      <td>@current I've got the live stream going #curre...</td>\n",
       "      <td>0</td>\n",
       "      <td>False</td>\n",
       "      <td>True</td>\n",
       "      <td>0</td>\n",
       "      <td>15224134</td>\n",
       "      <td>Tue Jun 24 21:13:12 +0000 2008</td>\n",
       "      <td>875</td>\n",
       "      <td>2016</td>\n",
       "      <td>...</td>\n",
       "      <td>False</td>\n",
       "      <td>1</td>\n",
       "      <td>0</td>\n",
       "      <td>0</td>\n",
       "      <td>1</td>\n",
       "      <td>Sat Sep 27 01:01:13 +0000 2008</td>\n",
       "      <td>obama_debate</td>\n",
       "      <td>all</td>\n",
       "      <td>english</td>\n",
       "      <td>positive</td>\n",
       "    </tr>\n",
       "  </tbody>\n",
       "</table>\n",
       "<p>5 rows × 24 columns</p>\n",
       "</div>"
      ],
      "text/plain": [
       "         tid                                               text  favorites  \\\n",
       "0  936466992                           Here we go. #tweetdebate          0   \n",
       "1  936467521  #tweetdebate letting mom/dad follow debate on ...          0   \n",
       "2  936467712  what is an appropriately bi-partisan food to b...          0   \n",
       "3  936468396  @current one minute to get your stuff together...          0   \n",
       "4  936468736  @current I've got the live stream going #curre...          0   \n",
       "\n",
       "   is_quote  is_reply  retweets      u_id                    u_created_at  \\\n",
       "0     False     False         0  14898808  Sun May 25 13:52:19 +0000 2008   \n",
       "1     False     False         0  14187773  Thu Mar 20 22:25:49 +0000 2008   \n",
       "2     False     False         0  14759482  Tue May 13 14:38:08 +0000 2008   \n",
       "3     False      True         0  10450342  Wed Nov 21 20:25:33 +0000 2007   \n",
       "4     False      True         0  15224134  Tue Jun 24 21:13:12 +0000 2008   \n",
       "\n",
       "   u_followers  u_friends    ...     u_has_url  n_hashtags  n_symbols  n_urls  \\\n",
       "0         6872       1643    ...          True           1          0       0   \n",
       "1         1456        664    ...         False           1          0       0   \n",
       "2          718       1609    ...         False           1          0       0   \n",
       "3         2381       3918    ...          True           1          0       0   \n",
       "4          875       2016    ...         False           1          0       0   \n",
       "\n",
       "   n_mentions                      created_at       dataset  datasplit  \\\n",
       "0           0  Sat Sep 27 01:00:06 +0000 2008  obama_debate        all   \n",
       "1           0  Sat Sep 27 01:00:24 +0000 2008  obama_debate        all   \n",
       "2           0  Sat Sep 27 01:00:32 +0000 2008  obama_debate        all   \n",
       "3           1  Sat Sep 27 01:00:58 +0000 2008  obama_debate        all   \n",
       "4           1  Sat Sep 27 01:01:13 +0000 2008  obama_debate        all   \n",
       "\n",
       "   language     label  \n",
       "0   english   neutral  \n",
       "1   english   neutral  \n",
       "2   english   neutral  \n",
       "3   english   neutral  \n",
       "4   english  positive  \n",
       "\n",
       "[5 rows x 24 columns]"
      ]
     },
     "execution_count": 44,
     "metadata": {},
     "output_type": "execute_result"
    }
   ],
   "source": [
    "df_nodups.head()"
   ]
  },
  {
   "cell_type": "markdown",
   "metadata": {},
   "source": [
    "## Write no duplicate data to files"
   ]
  },
  {
   "cell_type": "code",
   "execution_count": 45,
   "metadata": {
    "collapsed": true
   },
   "outputs": [],
   "source": [
    "df_nodups[[\"tid\", \"text\"]].to_json(\"./data/joined_data_all.text.json\",\n",
    "                            orient=\"split\",\n",
    "                          force_ascii=False)"
   ]
  },
  {
   "cell_type": "code",
   "execution_count": 46,
   "metadata": {
    "collapsed": true
   },
   "outputs": [],
   "source": [
    "df_nodups = df_nodups.drop(\"text\", axis=1)"
   ]
  },
  {
   "cell_type": "code",
   "execution_count": 47,
   "metadata": {},
   "outputs": [
    {
     "data": {
      "text/plain": [
       "(131605, 23)"
      ]
     },
     "execution_count": 47,
     "metadata": {},
     "output_type": "execute_result"
    }
   ],
   "source": [
    "df_nodups.shape"
   ]
  },
  {
   "cell_type": "code",
   "execution_count": 48,
   "metadata": {},
   "outputs": [
    {
     "name": "stdout",
     "output_type": "stream",
     "text": [
      "tid\tfavorites\tis_quote\tis_reply\tretweets\tu_id\tu_created_at\tu_followers\tu_friends\tu_lists\tu_statuses\tu_verified\tu_location\tu_has_url\tn_hashtags\tn_symbols\tn_urls\tn_mentions\tcreated_at\tdataset\tdatasplit\tlanguage\tlabel\r\n",
      "936466992\t0\tFalse\tFalse\t0\t14898808\tSun May 25 13:52:19 +0000 2008\t6872\t1643\t161\t4927\tFalse\tTrue\tTrue\t1\t0\t0\t0\tSat Sep 27 01:00:06 +0000 2008\tobama_debate\tall\tenglish\tneutral\r\n",
      "936467521\t0\tFalse\tFalse\t0\t14187773\tThu Mar 20 22:25:49 +0000 2008\t1456\t664\t31\t1355\tFalse\tTrue\tFalse\t1\t0\t0\t0\tSat Sep 27 01:00:24 +0000 2008\tobama_debate\tall\tenglish\tneutral\r\n",
      "936467712\t0\tFalse\tFalse\t0\t14759482\tTue May 13 14:38:08 +0000 2008\t718\t1609\t60\t5050\tFalse\tTrue\tFalse\t1\t0\t0\t0\tSat Sep 27 01:00:32 +0000 2008\tobama_debate\tall\tenglish\tneutral\r\n",
      "936468396\t0\tFalse\tTrue\t0\t10450342\tWed Nov 21 20:25:33 +0000 2007\t2381\t3918\t104\t56628\tFalse\tTrue\tTrue\t1\t0\t0\t1\tSat Sep 27 01:00:58 +0000 2008\tobama_debate\tall\tenglish\tneutral\r\n",
      "936468736\t0\tFalse\tTrue\t0\t15224134\tTue Jun 24 21:13:12 +0000 2008\t875\t2016\t21\t1924\tFalse\tTrue\tFalse\t1\t0\t0\t1\tSat Sep 27 01:01:13 +0000 2008\tobama_debate\tall\tenglish\tpositive\r\n",
      "936468782\t0\tFalse\tFalse\t0\t662763\tFri Jan 19 01:47:00 +0000 2007\t25183\t5155\t2440\t18923\tFalse\tTrue\tTrue\t1\t0\t0\t0\tSat Sep 27 01:01:14 +0000 2008\tobama_debate\tall\tenglish\tneutral\r\n",
      "936468824\t0\tFalse\tFalse\t0\t9075622\tMon Sep 24 19:24:03 +0000 2007\t13587\t1880\t1305\t117333\tTrue\tTrue\tTrue\t1\t0\t0\t0\tSat Sep 27 01:01:15 +0000 2008\tobama_debate\tall\tenglish\tneutral\r\n",
      "936469851\t0\tFalse\tFalse\t0\t10323542\tSat Nov 17 03:44:14 +0000 2007\t409\t224\t18\t5100\tFalse\tTrue\tFalse\t1\t0\t0\t0\tSat Sep 27 01:01:53 +0000 2008\tobama_debate\tall\tenglish\tnegative\r\n",
      "936469906\t0\tFalse\tFalse\t0\t9075622\tMon Sep 24 19:24:03 +0000 2007\t13587\t1880\t1305\t117333\tTrue\tTrue\tTrue\t1\t0\t0\t0\tSat Sep 27 01:01:55 +0000 2008\tobama_debate\tall\tenglish\tpositive\r\n"
     ]
    }
   ],
   "source": [
    "df_nodups.to_csv(\"./data/joined_data_all.txt\", sep=\"\\t\", index=False)\n",
    "! head ./data/joined_data_all.txt"
   ]
  },
  {
   "cell_type": "code",
   "execution_count": null,
   "metadata": {
    "collapsed": true
   },
   "outputs": [],
   "source": []
  }
 ],
 "metadata": {
  "anaconda-cloud": {},
  "kernelspec": {
   "display_name": "Python [default]",
   "language": "python",
   "name": "python3"
  },
  "language_info": {
   "codemirror_mode": {
    "name": "ipython",
    "version": 3
   },
   "file_extension": ".py",
   "mimetype": "text/x-python",
   "name": "python",
   "nbconvert_exporter": "python",
   "pygments_lexer": "ipython3",
   "version": "3.6.1"
  }
 },
 "nbformat": 4,
 "nbformat_minor": 1
}
